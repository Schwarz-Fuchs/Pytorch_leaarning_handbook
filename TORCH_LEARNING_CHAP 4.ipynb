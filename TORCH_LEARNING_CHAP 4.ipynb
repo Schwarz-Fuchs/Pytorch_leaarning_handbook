{
 "cells": [
  {
   "metadata": {},
   "cell_type": "markdown",
   "source": "# CHAP4 REPRESENTING REAL WORLD DATA WITH TENSORS",
   "id": "f8a995c2160f69ce"
  },
  {
   "cell_type": "code",
   "id": "initial_id",
   "metadata": {
    "collapsed": true,
    "ExecuteTime": {
     "end_time": "2025-09-17T07:46:37.655403Z",
     "start_time": "2025-09-17T07:46:37.628565Z"
    }
   },
   "source": [
    "## 1 VISUAL DATA\n",
    "import imageio\n",
    "import torch\n",
    "\n",
    "with open (\"images/border_collie.jpg\", \"rb\") as image_file:\n",
    "    image_rd=imageio.read(image_file)\n",
    "    img_arr=image_rd.get_data(0)\n",
    "    print(img_arr.shape)\n",
    "    print(image_rd.get_data(0))  #you can use this way to get the actual matrix\n",
    "## the original img_arr structure is (H,W,C)\n",
    "\n",
    "img = torch.from_numpy(img_arr)\n",
    "out = img.permute(2, 0, 1)\n",
    "#trans to (C,H,W) is better for understanding and training (permute didn't chang the storage)\n",
    "print(out.shape)\n",
    "print(out)"
   ],
   "outputs": [
    {
     "name": "stdout",
     "output_type": "stream",
     "text": [
      "(886, 1102, 3)\n",
      "[[[106  90  93]\n",
      "  [106  90  93]\n",
      "  [105  89  92]\n",
      "  ...\n",
      "  [ 96  76  77]\n",
      "  [ 96  76  77]\n",
      "  [ 96  76  77]]\n",
      "\n",
      " [[105  89  92]\n",
      "  [105  89  92]\n",
      "  [104  88  91]\n",
      "  ...\n",
      "  [ 96  76  77]\n",
      "  [ 96  76  77]\n",
      "  [ 96  76  77]]\n",
      "\n",
      " [[103  87  90]\n",
      "  [103  87  90]\n",
      "  [103  87  90]\n",
      "  ...\n",
      "  [ 96  76  77]\n",
      "  [ 96  76  77]\n",
      "  [ 96  76  77]]\n",
      "\n",
      " ...\n",
      "\n",
      " [[ 43  43  35]\n",
      "  [ 43  43  35]\n",
      "  [ 44  44  36]\n",
      "  ...\n",
      "  [ 45  42  37]\n",
      "  [ 45  42  37]\n",
      "  [ 45  42  37]]\n",
      "\n",
      " [[ 44  44  42]\n",
      "  [ 44  44  42]\n",
      "  [ 44  44  42]\n",
      "  ...\n",
      "  [ 45  44  42]\n",
      "  [ 45  44  42]\n",
      "  [ 45  44  42]]\n",
      "\n",
      " [[ 41  43  42]\n",
      "  [ 41  43  42]\n",
      "  [ 41  43  42]\n",
      "  ...\n",
      "  [ 44  42  43]\n",
      "  [ 44  42  43]\n",
      "  [ 44  42  43]]]\n",
      "torch.Size([3, 886, 1102])\n",
      "tensor([[[106, 106, 105,  ...,  96,  96,  96],\n",
      "         [105, 105, 104,  ...,  96,  96,  96],\n",
      "         [103, 103, 103,  ...,  96,  96,  96],\n",
      "         ...,\n",
      "         [ 43,  43,  44,  ...,  45,  45,  45],\n",
      "         [ 44,  44,  44,  ...,  45,  45,  45],\n",
      "         [ 41,  41,  41,  ...,  44,  44,  44]],\n",
      "\n",
      "        [[ 90,  90,  89,  ...,  76,  76,  76],\n",
      "         [ 89,  89,  88,  ...,  76,  76,  76],\n",
      "         [ 87,  87,  87,  ...,  76,  76,  76],\n",
      "         ...,\n",
      "         [ 43,  43,  44,  ...,  42,  42,  42],\n",
      "         [ 44,  44,  44,  ...,  44,  44,  44],\n",
      "         [ 43,  43,  43,  ...,  42,  42,  42]],\n",
      "\n",
      "        [[ 93,  93,  92,  ...,  77,  77,  77],\n",
      "         [ 92,  92,  91,  ...,  77,  77,  77],\n",
      "         [ 90,  90,  90,  ...,  77,  77,  77],\n",
      "         ...,\n",
      "         [ 35,  35,  36,  ...,  37,  37,  37],\n",
      "         [ 42,  42,  42,  ...,  42,  42,  42],\n",
      "         [ 42,  42,  42,  ...,  43,  43,  43]]], dtype=torch.uint8)\n"
     ]
    }
   ],
   "execution_count": 3
  },
  {
   "metadata": {},
   "cell_type": "code",
   "outputs": [],
   "execution_count": null,
   "source": "",
   "id": "20bfd0f90e930efa"
  }
 ],
 "metadata": {
  "kernelspec": {
   "display_name": "Python 3",
   "language": "python",
   "name": "python3"
  },
  "language_info": {
   "codemirror_mode": {
    "name": "ipython",
    "version": 2
   },
   "file_extension": ".py",
   "mimetype": "text/x-python",
   "name": "python",
   "nbconvert_exporter": "python",
   "pygments_lexer": "ipython2",
   "version": "2.7.6"
  }
 },
 "nbformat": 4,
 "nbformat_minor": 5
}
