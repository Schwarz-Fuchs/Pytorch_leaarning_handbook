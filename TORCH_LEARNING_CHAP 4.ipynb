{
 "cells": [
  {
   "metadata": {},
   "cell_type": "markdown",
   "source": "# CHAP4 REPRESENTING REAL WORLD DATA WITH TENSORS",
   "id": "f8a995c2160f69ce"
  },
  {
   "cell_type": "code",
   "id": "initial_id",
   "metadata": {
    "collapsed": true,
    "ExecuteTime": {
     "end_time": "2025-09-09T10:13:18.165596Z",
     "start_time": "2025-09-09T10:13:18.148659Z"
    }
   },
   "source": [
    "## 1 VISUAL DATA\n",
    "import imageio\n",
    "\n",
    "with open (\"images/border_collie.jpg\", \"rb\") as image_file:\n",
    "    #image_arr = imageio.imread(image_file)\n",
    "    image_rd=imageio.read(image_file)\n",
    "    print(image_rd.get_data(0))  #you can use this way to get the actual matrix\n",
    "    #print(image_arr)"
   ],
   "outputs": [
    {
     "name": "stdout",
     "output_type": "stream",
     "text": [
      "[[[106  90  93]\n",
      "  [106  90  93]\n",
      "  [105  89  92]\n",
      "  ...\n",
      "  [ 96  76  77]\n",
      "  [ 96  76  77]\n",
      "  [ 96  76  77]]\n",
      "\n",
      " [[105  89  92]\n",
      "  [105  89  92]\n",
      "  [104  88  91]\n",
      "  ...\n",
      "  [ 96  76  77]\n",
      "  [ 96  76  77]\n",
      "  [ 96  76  77]]\n",
      "\n",
      " [[103  87  90]\n",
      "  [103  87  90]\n",
      "  [103  87  90]\n",
      "  ...\n",
      "  [ 96  76  77]\n",
      "  [ 96  76  77]\n",
      "  [ 96  76  77]]\n",
      "\n",
      " ...\n",
      "\n",
      " [[ 43  43  35]\n",
      "  [ 43  43  35]\n",
      "  [ 44  44  36]\n",
      "  ...\n",
      "  [ 45  42  37]\n",
      "  [ 45  42  37]\n",
      "  [ 45  42  37]]\n",
      "\n",
      " [[ 44  44  42]\n",
      "  [ 44  44  42]\n",
      "  [ 44  44  42]\n",
      "  ...\n",
      "  [ 45  44  42]\n",
      "  [ 45  44  42]\n",
      "  [ 45  44  42]]\n",
      "\n",
      " [[ 41  43  42]\n",
      "  [ 41  43  42]\n",
      "  [ 41  43  42]\n",
      "  ...\n",
      "  [ 44  42  43]\n",
      "  [ 44  42  43]\n",
      "  [ 44  42  43]]]\n"
     ]
    }
   ],
   "execution_count": 10
  }
 ],
 "metadata": {
  "kernelspec": {
   "display_name": "Python 3",
   "language": "python",
   "name": "python3"
  },
  "language_info": {
   "codemirror_mode": {
    "name": "ipython",
    "version": 2
   },
   "file_extension": ".py",
   "mimetype": "text/x-python",
   "name": "python",
   "nbconvert_exporter": "python",
   "pygments_lexer": "ipython2",
   "version": "2.7.6"
  }
 },
 "nbformat": 4,
 "nbformat_minor": 5
}
